{
 "cells": [
  {
   "cell_type": "code",
   "execution_count": null,
   "id": "db4e1b5f",
   "metadata": {},
   "outputs": [],
   "source": [
    "# Define the root path for the data\n",
    "ROOT_PATH = \"data\""
   ]
  },
  {
   "cell_type": "code",
   "execution_count": 10,
   "id": "7e734226-f3ee-4866-b163-2016e4daa3a2",
   "metadata": {},
   "outputs": [],
   "source": [
    "# Imports\n",
    "import os, re\n",
    "import findspark\n",
    "from pyspark import SparkConf, SparkContext"
   ]
  },
  {
   "cell_type": "code",
   "execution_count": 11,
   "id": "14d6366c-f58b-4324-a1a0-151a1df4bdac",
   "metadata": {},
   "outputs": [],
   "source": [
    "# Initialize findspark for easier ussage\n",
    "findspark.init()"
   ]
  },
  {
   "cell_type": "code",
   "execution_count": 5,
   "id": "00275ed9-5258-43c1-a76a-7c0071bd6a41",
   "metadata": {},
   "outputs": [],
   "source": [
    "# Setup Spark\n",
    "conf = SparkConf().setMaster(\"local[*]\").setAppName(\"LongestWordFinder\")\n",
    "sc = SparkContext(conf=conf)"
   ]
  },
  {
   "cell_type": "code",
   "execution_count": 43,
   "id": "7cad629f",
   "metadata": {},
   "outputs": [
    {
     "name": "stdout",
     "output_type": "stream",
     "text": [
      "['data/Dutch', 'data/German', 'data/Russian', 'data/Italian', 'data/English', 'data/French', 'data/Spanish', 'data/Ukrainian']\n"
     ]
    }
   ],
   "source": [
    "# Gather all language paths\n",
    "language_paths = []\n",
    "for os_entry in os.listdir(ROOT_PATH):\n",
    "    # Concatenate the root path with the current entry\n",
    "    language_path = os.path.join(ROOT_PATH, os_entry)\n",
    "\n",
    "    # Check if the current entry is a directory\n",
    "    if os.path.isdir(language_path):\n",
    "        language_paths.append(language_path)\n",
    "print(language_paths)"
   ]
  },
  {
   "cell_type": "code",
   "execution_count": 9,
   "id": "1aaf4904-2cd8-4b70-83c3-bb1d1bf5b733",
   "metadata": {},
   "outputs": [],
   "source": [
    "# Function to find the longest word in an RDD\n",
    "def find_longest_word(file_path) -> str:\n",
    "    rdd = sc.textFile(file_path)\n",
    "    longest_word = (\n",
    "        rdd.flatMap(lambda t: re.findall(r\"\\w+\", t))         # Tokenize words -> r in findall means raw string\n",
    "        .map(lambda w: (w, len(w)))                          # Map: Pair each word with its length\n",
    "        .reduce(lambda a, b: a if a[1] > b[1] else b)        # Reduce: Find the longest word\n",
    "    )\n",
    "    return longest_word"
   ]
  },
  {
   "cell_type": "code",
   "execution_count": null,
   "id": "93361e5f-034a-4629-81d4-2b44680e88e1",
   "metadata": {},
   "outputs": [],
   "source": [
    "results = {}    # {language: longest_word, ...}\n",
    "for language_path in language_paths:\n",
    "    language = os.path.basename(language_path)                      # Extract language from path\n",
    "    word = find_longest_word(os.path.join(language_path, \"*.txt\"))  # Find the longest word in txt files in the language path\n",
    "    \n",
    "    if language not in results or len(word) > len(results[language]):\n",
    "        results[language] = word"
   ]
  },
  {
   "cell_type": "code",
   "execution_count": null,
   "id": "d8dbda0a-ec19-45f2-990a-c3d934f130f5",
   "metadata": {},
   "outputs": [],
   "source": [
    "# Sort results by the length of the longest word\n",
    "sorted_results = dict(sorted(results.items(), key=lambda item: len(item[1]), reverse=True))"
   ]
  },
  {
   "cell_type": "code",
   "execution_count": null,
   "id": "762aa5aa-31ec-425b-a8ea-713f842cd493",
   "metadata": {},
   "outputs": [],
   "source": [
    "# Print the results starting with the longest word\n",
    "for language, word in sorted_results.items():\n",
    "    print(f\"{language} - {word} - {len(word)}\")"
   ]
  }
 ],
 "metadata": {
  "kernelspec": {
   "display_name": ".venv",
   "language": "python",
   "name": "python3"
  },
  "language_info": {
   "codemirror_mode": {
    "name": "ipython",
    "version": 3
   },
   "file_extension": ".py",
   "mimetype": "text/x-python",
   "name": "python",
   "nbconvert_exporter": "python",
   "pygments_lexer": "ipython3",
   "version": "3.13.0"
  }
 },
 "nbformat": 4,
 "nbformat_minor": 5
}
