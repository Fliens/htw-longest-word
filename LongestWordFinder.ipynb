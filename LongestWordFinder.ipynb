{
 "cells": [
  {
   "cell_type": "code",
   "execution_count": 10,
   "id": "7e734226-f3ee-4866-b163-2016e4daa3a2",
   "metadata": {},
   "outputs": [],
   "source": [
    "# Imports\n",
    "import os, re, glob\n",
    "import findspark\n",
    "from pyspark import SparkConf, SparkContext"
   ]
  },
  {
   "cell_type": "code",
   "execution_count": 11,
   "id": "14d6366c-f58b-4324-a1a0-151a1df4bdac",
   "metadata": {},
   "outputs": [],
   "source": [
    "# Initialize findspark for easier ussage\n",
    "findspark.init()"
   ]
  },
  {
   "cell_type": "code",
   "execution_count": 5,
   "id": "00275ed9-5258-43c1-a76a-7c0071bd6a41",
   "metadata": {},
   "outputs": [],
   "source": [
    "# Setup Spark\n",
    "conf = SparkConf().setMaster(\"local[*]\").setAppName(\"LongestWordFinder\")\n",
    "sc = SparkContext(conf=conf)"
   ]
  },
  {
   "cell_type": "code",
   "execution_count": 22,
   "id": "7cad629f",
   "metadata": {},
   "outputs": [],
   "source": [
    "# Gather all txt file paths\n",
    "root_path = \"data\"\n",
    "txt_paths = glob.glob(os.path.join(root_path, '**', '*.txt'), recursive=True)"
   ]
  },
  {
   "cell_type": "code",
   "execution_count": 9,
   "id": "1aaf4904-2cd8-4b70-83c3-bb1d1bf5b733",
   "metadata": {},
   "outputs": [],
   "source": [
    "# Function to find the longest word in an RDD\n",
    "def find_longest_word(file_path) -> str:\n",
    "    rdd = sc.textFile(file_path)\n",
    "    longest_word = (\n",
    "        rdd.flatMap(lambda t: re.findall(r\"\\w+\", t))         # Tokenize words -> r in findall means raw string\n",
    "        .map(lambda w: (w, len(w)))                          # Map: Pair each word with its length\n",
    "        .reduce(lambda a, b: a if a[1] > b[1] else b)        # Reduce: Find the longest word\n",
    "    )\n",
    "    return longest_word"
   ]
  },
  {
   "cell_type": "code",
   "execution_count": null,
   "id": "93361e5f-034a-4629-81d4-2b44680e88e1",
   "metadata": {},
   "outputs": [],
   "source": [
    "results = {}    # {language: longest_word, ...}\n",
    "for txt_path in txt_paths:\n",
    "    language = os.path.basename(os.path.dirname(txt_path))  # Extract language from path\n",
    "    word = find_longest_word(txt_path)                      # Find the longest word in the file\n",
    "    \n",
    "    if language not in results or len(word) > len(results[language]):\n",
    "        results[language] = word"
   ]
  },
  {
   "cell_type": "code",
   "execution_count": 40,
   "id": "d8dbda0a-ec19-45f2-990a-c3d934f130f5",
   "metadata": {},
   "outputs": [
    {
     "name": "stdout",
     "output_type": "stream",
     "text": [
      "{'German': 'Donaudampfschifffahrtsgesellschaftskapitän', 'English': 'antidisestablishmentarianism', 'Italian': 'precipitevolissimevolmente', 'French': 'anticonstitutionnellement', 'Spanish': 'electroencefalografista'}\n"
     ]
    }
   ],
   "source": [
    "# Sort results by the length of the longest word\n",
    "sorted_results = dict(sorted(results.items(), key=lambda item: len(item[1]), reverse=True))"
   ]
  },
  {
   "cell_type": "code",
   "execution_count": 41,
   "id": "762aa5aa-31ec-425b-a8ea-713f842cd493",
   "metadata": {},
   "outputs": [
    {
     "name": "stdout",
     "output_type": "stream",
     "text": [
      "German: Donaudampfschifffahrtsgesellschaftskapitän - 42\n",
      "English: antidisestablishmentarianism - 28\n",
      "Italian: precipitevolissimevolmente - 26\n",
      "French: anticonstitutionnellement - 25\n",
      "Spanish: electroencefalografista - 23\n"
     ]
    }
   ],
   "source": [
    "# Print the results starting with the longest word\n",
    "for language, word in sorted_results.items():\n",
    "    print(f\"{language} - {word} - {len(word)}\")"
   ]
  }
 ],
 "metadata": {
  "kernelspec": {
   "display_name": ".venv",
   "language": "python",
   "name": "python3"
  },
  "language_info": {
   "codemirror_mode": {
    "name": "ipython",
    "version": 3
   },
   "file_extension": ".py",
   "mimetype": "text/x-python",
   "name": "python",
   "nbconvert_exporter": "python",
   "pygments_lexer": "ipython3",
   "version": "3.13.0"
  }
 },
 "nbformat": 4,
 "nbformat_minor": 5
}
